{
 "cells": [
  {
   "cell_type": "code",
   "execution_count": 1,
   "id": "ceab4582",
   "metadata": {},
   "outputs": [],
   "source": [
    "# Quantum Trajectories\n",
    "# Optical Bloch Equations\n",
    "\n",
    "import numpy as np\n",
    "import matplotlib.pyplot as plt"
   ]
  },
  {
   "cell_type": "code",
   "execution_count": 2,
   "id": "63d54ee6",
   "metadata": {},
   "outputs": [],
   "source": [
    "def dag(array):\n",
    "    return array.T.conj()"
   ]
  },
  {
   "cell_type": "code",
   "execution_count": 3,
   "id": "e8b5dae8",
   "metadata": {},
   "outputs": [],
   "source": [
    "Sx = np.array([[0,1],[1,0]])\n",
    "Sp = np.array([[0,1],[0,0]])\n",
    "Sm = dag(Sp)\n",
    "Es = np.array([1,0])\n",
    "Gs = np.array([0,1])\n",
    "I2 = np.array([[1,0],[0,1]])\n",
    "\n",
    "pE = np.array([[1,0],[0,0]])\n",
    "\n",
    "Om = 1 # This makes it such that t = t*Om\n",
    "Δ = 0\n",
    "Γ = Om/6\n",
    "g=np.sqrt(Γ)\n",
    "\n",
    "Hopt = -((Om/2)*Sx)-(Δ*(Sp@Sm))\n",
    "Heff = Hopt - ((1j*Γ/2)*(Sp@Sm))\n"
   ]
  },
  {
   "cell_type": "code",
   "execution_count": 4,
   "id": "8d04dcb1",
   "metadata": {},
   "outputs": [
    {
     "data": {
      "text/plain": [
       "array([[-0. -0.08333333j, -0.5+0.j        ],\n",
       "       [-0.5+0.j        , -0. +0.j        ]])"
      ]
     },
     "execution_count": 4,
     "metadata": {},
     "output_type": "execute_result"
    }
   ],
   "source": [
    "Heff"
   ]
  },
  {
   "cell_type": "code",
   "execution_count": 5,
   "id": "090967c1",
   "metadata": {},
   "outputs": [
    {
     "data": {
      "text/plain": [
       "array([ True,  True])"
      ]
     },
     "execution_count": 5,
     "metadata": {},
     "output_type": "execute_result"
    }
   ],
   "source": [
    "np.conj(np.array([1j,1])) == np.array([1j,1]).conj()"
   ]
  },
  {
   "cell_type": "code",
   "execution_count": 6,
   "id": "33b8af13",
   "metadata": {},
   "outputs": [],
   "source": [
    "def qTrajBlochStep(psi, Heff, dt):\n",
    "    psi1 = (I2-(1j*Heff*dt))@psi\n",
    "    dp = psi.conj()@(1j*(Heff-dag(Heff)))@psi*dt\n",
    "    r = np.random.uniform()\n",
    "    #print(np.sqrt(dp/dt))\n",
    "    if r > dp:\n",
    "        psit = psi1/np.sqrt(psi1.conj()@psi1)\n",
    "    else:\n",
    "        psit = np.sqrt(Γ)*Sm@psi/np.sqrt(dp/dt)\n",
    "    return psit\n",
    "\n",
    "def qTrajBlochRun(psiI, Heff, dt, Ndt):\n",
    "    psiC = psiI\n",
    "    psiL = [psiC]\n",
    "    for i in range(Ndt):\n",
    "        psiC = qTrajBlochStep(psiC, Heff, dt)\n",
    "        psiL.append(psiC)\n",
    "    return np.array(psiL)\n",
    "\n",
    "def qTrajBlochRunPee(psiI, Heff, dt, Ndt):\n",
    "    psiC = psiI\n",
    "    pL = [psiC@pE@psiC]\n",
    "    for i in range(Ndt):\n",
    "        psiC = qTrajBlochStep(psiC, Heff, dt)\n",
    "        pL.append(psiC.conj()@pE@psiC)\n",
    "    return np.array(pL)\n",
    "\n",
    "def BrK(psi, M):\n",
    "    return np.einsum('ij,ij->i', np.dot(psi,M), psi)\n",
    "\n",
    "def BlochPeeExact(T):\n",
    "    return 36*np.exp(-T/8)*(115*np.exp(T/8)-115*np.cos((5/24)*np.sqrt(23)*T)-3*np.sqrt(23)*np.sin((5/24)*np.sqrt(23)*T))/8395"
   ]
  },
  {
   "cell_type": "code",
   "execution_count": 7,
   "id": "f990c68e",
   "metadata": {},
   "outputs": [
    {
     "data": {
      "text/plain": [
       "0.0"
      ]
     },
     "execution_count": 7,
     "metadata": {},
     "output_type": "execute_result"
    }
   ],
   "source": [
    "BlochPeeExact(0)"
   ]
  },
  {
   "cell_type": "code",
   "execution_count": 8,
   "id": "bbb53c62",
   "metadata": {},
   "outputs": [],
   "source": [
    "rN = 1000\n",
    "pEs = np.array([qTrajBlochRunPee(Gs, Heff, 0.1, 400) for i in range(rN)])"
   ]
  },
  {
   "cell_type": "code",
   "execution_count": 9,
   "id": "a6129c6c",
   "metadata": {},
   "outputs": [
    {
     "name": "stderr",
     "output_type": "stream",
     "text": [
      "/opt/intel/oneapi/intelpython/latest/lib/python3.7/site-packages/matplotlib/cbook/__init__.py:1390: ComplexWarning: Casting complex values to real discards the imaginary part\n",
      "  return np.asarray(x, float)\n"
     ]
    },
    {
     "data": {
      "image/png": "[encoded data removed]",
      "text/plain": [
       "<Figure size 432x288 with 1 Axes>"
      ]
     },
     "metadata": {
      "needs_background": "light"
     },
     "output_type": "display_data"
    }
   ],
   "source": [
    "xV = np.linspace(0,40,401)\n",
    "plt.plot(xV, BlochPeeExact(xV), label='Exact Solution', linestyle='--', color='k' )\n",
    "plt.plot(xV, np.mean(pEs,axis=0), label='Quantum Trajectories ('+str(rN)+')', linestyle='-', color='r')\n",
    "plt.legend()\n",
    "plt.title('Optical Bloch equations quantum trajectoires')\n",
    "plt.ylabel('$P_{ee}$')\n",
    "plt.xlabel('$t\\Omega$')\n",
    "plt.savefig(\"OpticalBlochqT.pdf\")\n",
    "plt.show()"
   ]
  },
  {
   "cell_type": "code",
   "execution_count": 10,
   "id": "587b9cf1",
   "metadata": {},
   "outputs": [],
   "source": [
    "### Ensemple Rank Truncation\n",
    "from scipy.linalg import expm\n",
    "\n",
    "# K=1\n",
    "dt = .1\n",
    "J = (-1j*Hopt)+((Γ/2)*((Sm@Sm)-(Sp@Sm)))\n",
    "def Uk(dt):\n",
    "    return expm((dt*Jk())-(1j*np.sqrt(dt*Γ)*Sm))\n",
    "def Vk(dt):\n",
    "    return expm((dt*Jk())+(1j*np.sqrt(dt*Γ)*Sm))\n",
    "def Jk():\n",
    "    return (-1j*Hopt)+((Γ/2)*((Sm@Sm)-(Sp@Sm)))\n",
    "\n",
    "def doERTrun(psiI, Ndt):\n",
    "    psiS = np.array([psiI])\n",
    "    pee = [obsPee(psiS)]\n",
    "    for i in range(Ndt):\n",
    "        psiS = stepERTens(psiS)\n",
    "        pee.append(obsPee(psiS))\n",
    "    return np.array(pee)\n",
    "\n",
    "def TSize(psiL):\n",
    "    return np.sum(np.array([psi.conj()@psi for psi in psiL]))\n",
    "def TS2(psiL):\n",
    "    return np.sum(np.linalg.norm(psiL,axis=1))\n",
    "def ASize(psiL):\n",
    "    return np.mean(np.array([psi.conj()@psi for psi in psiL]))\n",
    "        \n",
    "def obsPee(psiL):\n",
    "    #print('L: ',len(psiL))\n",
    "    #print('1: ', np.sum(np.array([psi.conj()@pE@psi for psi in psiL])), ' 2: ',np.mean(np.array([psi.conj()@pE@psi for psi in psiL])))\n",
    "    return np.mean(np.array([psi.conj()@pE@psi for psi in psiL]))\n",
    "\n",
    "def obsPeeM(psiL):\n",
    "    return np.mean(np.array([psi.conj()@pE@psi for psi in psiL]))\n",
    "def obsPeeS(psiL):\n",
    "    return np.sum(np.array([psi.conj()@pE@psi for psi in psiL]))\n",
    "\n",
    "def stepERTens(psiL):\n",
    "    R = 8\n",
    "    nPsi = []\n",
    "    #Propagate\n",
    "    for psi in psiL:\n",
    "        nPsi.append(Uk(dt)@psi)\n",
    "        nPsi.append(Vk(dt)@psi)\n",
    "    #Truncate\n",
    "    nPsi = np.array(nPsi)\n",
    "    Sij = np.dot(nPsi.conj(),nPsi.T)\n",
    "    w, Uuns = np.linalg.eigh(Sij)\n",
    "    idx = np.argsort(w)[::-1]\n",
    "    Ulk = Uuns[:,idx]\n",
    "    #diag_matrix = np.conjugate(Ulk.T) @ Sij @ Ulk\n",
    "    #print('w: ', w)\n",
    "    #print('Diag ',np.round(diag_matrix, decimals=10))\n",
    "    if len(nPsi) > R:\n",
    "        #UR = Ulk[:,:R]\n",
    "        UR = Ulk.T.conj()[:R]/np.sqrt(2)\n",
    "        #print('TUNC')\n",
    "    else:\n",
    "        #return nPsi\n",
    "        UR = Ulk.T.conj()\n",
    "    #print('Pee: ',obsPee(nPsi))\n",
    "    #print('nPsi: ',nPsi.shape)\n",
    "    #print('Ulk: ',Ulk.shape)\n",
    "    #print('RecPee: ',obsPee(np.array([Ulk@psi for psi in nPsi])))\n",
    "    #print('RecPee: ',obsPee(Ulk@nPsi))\n",
    "    #print('psiL: ',nPsi)\n",
    "    #print('UR: ',UR.T.shape)\n",
    "    #print('nPsi: ',nPsi.shape)\n",
    "    #print('rPsi: ',(UR.T.conj()@nPsi).shape)\n",
    "    #print('1: ', obsPee(nPsi))\n",
    "    #print('2: ', obsPee(UR.T.conj()@nPsi))\n",
    "    #print()\n",
    "    Opsi = Ulk.T.conj()@nPsi\n",
    "    rPsi = UR@nPsi\n",
    "    ### \"appropriate normalization\" whatever the fuck that means\n",
    "    #rPsi = rPsi/TS2(rPsi)\n",
    "    #print('1: ', obsPee(rPsi))\n",
    "    #print(rPsi)\n",
    "    #for i, psi in enumerate(Opsi):\n",
    "        #for j, psi2 in enumerate(Opsi):\n",
    "            #print('('+str(i)+','+str(j)+')',psi.conj()@psi2)\n",
    "        \n",
    "    #print('rPsi.shape', rPsi.shape)\n",
    "   # print('1: ',obsPee(psiL))\n",
    "    #print('1S: ', obsPeeS(psiL))\n",
    "    #print('1A: ', obsPeeM(psiL))\n",
    "   # print('2: ',obsPee(nPsi))\n",
    "    #print('2S: ', obsPeeS(nPsi))\n",
    "    #print('2A: ', obsPeeM(nPsi))\n",
    "   # print('3: ',obsPee(rPsi))\n",
    "    #print('3S: ', obsPeeS(rPsi))\n",
    "    #print('3A: ', obsPeeM(rPsi))\n",
    "    #print('psiL: ',obsPeeM(psiL))\n",
    "    #print('nPsi: ',obsPeeM(nPsi))\n",
    "    #print('rPsi: ',obsPeeM(rPsi))\n",
    "    \n",
    "    return rPsi\n",
    "    \n",
    "    \n",
    "    \n",
    "    \n",
    "        \n"
   ]
  },
  {
   "cell_type": "code",
   "execution_count": 11,
   "id": "ade61d8b",
   "metadata": {
    "scrolled": true
   },
   "outputs": [
    {
     "name": "stdout",
     "output_type": "stream",
     "text": [
      "[0.        +0.j 0.00247721+0.j 0.00980233+0.j 0.02178254+0.j\n",
      " 0.03818329+0.j 0.05873174+0.j 0.08312043+0.j 0.11101115+0.j\n",
      " 0.14203913+0.j 0.17581731+0.j 0.21194073+0.j 0.24999109+0.j\n",
      " 0.28954116+0.j 0.33015933+0.j 0.37141399+0.j 0.41287785+0.j\n",
      " 0.4541321 +0.j 0.49477038+0.j 0.53440251+0.j 0.57265798+0.j\n",
      " 0.60918922+0.j 0.6436744 +0.j 0.67582011+0.j 0.7053635 +0.j\n",
      " 0.7320742 +0.j 0.7557558 +0.j 0.77624696+0.j 0.79342216+0.j\n",
      " 0.8071921 +0.j 0.81750361+0.j 0.82433939+0.j 0.82771723+0.j\n",
      " 0.82768898+0.j 0.82433919+0.j 0.81778348+0.j 0.80816657+0.j\n",
      " 0.79566019+0.j 0.78046062+0.j 0.76278617+0.j 0.74287445+0.j\n",
      " 0.72097951+0.j 0.69736894+0.j 0.67232079+0.j 0.6461206 +0.j\n",
      " 0.61905837+0.j 0.59142549+0.j 0.56351187+0.j 0.53560304+0.j\n",
      " 0.50797744+0.j 0.48090379+0.j 0.45463865+0.j 0.4294242 +0.j\n",
      " 0.40548612+0.j 0.38303179+0.j 0.36224867+0.j 0.34330288+0.j\n",
      " 0.32633814+0.j 0.31147481+0.j 0.29880934+0.j 0.28841386+0.j\n",
      " 0.28033604+0.j 0.27459929+0.j 0.27120304+0.j 0.27012342+0.j\n",
      " 0.271314  +0.j 0.27470687+0.j 0.28021382+0.j 0.28772771+0.j\n",
      " 0.29712405+0.j 0.30826263+0.j 0.32098931+0.j 0.33513794+0.j\n",
      " 0.35053228+0.j 0.366988  +0.j 0.38431476+0.j 0.40231822+0.j\n",
      " 0.42080209+0.j 0.43957016+0.j 0.4584282 +0.j 0.47718592+0.j\n",
      " 0.49565871+0.j 0.51366937+0.j 0.5310497 +0.j 0.54764194+0.j\n",
      " 0.5633001 +0.j 0.5778911 +0.j 0.59129583+0.j 0.60340993+0.j\n",
      " 0.61414451+0.j 0.62342665+0.j 0.6311997 +0.j 0.63742351+0.j\n",
      " 0.64207433+0.j 0.64514474+0.j 0.64664323+0.j 0.64659379+0.j\n",
      " 0.64503526+0.j 0.64202056+0.j 0.63761587+0.j 0.63189955+0.j\n",
      " 0.62496116+0.j 0.61690021+0.j 0.60782495+0.j 0.5978511 +0.j\n",
      " 0.58710046+0.j 0.57569957+0.j 0.56377836+0.j 0.5514687 +0.j\n",
      " 0.5389031 +0.j 0.52621335+0.j 0.51352921+0.j 0.50097718+0.j\n",
      " 0.48867932+0.j 0.47675213+0.j 0.46530553+0.j 0.45444193+0.j\n",
      " 0.44425541+0.j 0.43483093+0.j 0.42624378+0.j 0.41855902+0.j\n",
      " 0.4118311 +0.j 0.40610357+0.j 0.40140894+0.j 0.3977686 +0.j\n",
      " 0.39519288+0.j 0.39368125+0.j 0.39322256+0.j 0.39379545+0.j\n",
      " 0.39536877+0.j 0.39790218+0.j 0.40134675+0.j 0.40564566+0.j\n",
      " 0.41073498+0.j 0.41654447+0.j 0.42299844+0.j 0.43001664+0.j\n",
      " 0.43751518+0.j 0.44540744+0.j 0.45360503+0.j 0.46201867+0.j\n",
      " 0.47055916+0.j 0.47913823+0.j 0.4876694 +0.j 0.4960688 +0.j\n",
      " 0.50425598+0.j 0.51215456+0.j 0.51969295+0.j 0.52680491+0.j\n",
      " 0.5334301 +0.j 0.53951453+0.j 0.54501093+0.j 0.54987908+0.j\n",
      " 0.55408601+0.j 0.55760616+0.j 0.56042148+0.j 0.56252138+0.j\n",
      " 0.56390265+0.j 0.56456937+0.j 0.56453263+0.j 0.56381026+0.j\n",
      " 0.56242649+0.j 0.56041156+0.j 0.55780125+0.j 0.55463642+0.j\n",
      " 0.55096241+0.j 0.54682857+0.j 0.54228757+0.j 0.53739487+0.j\n",
      " 0.53220807+0.j 0.52678626+0.j 0.52118944+0.j 0.51547785+0.j\n",
      " 0.50971139+0.j 0.50394905+0.j 0.49824829+0.j 0.49266455+0.j\n",
      " 0.48725073+0.j 0.48205673+0.j 0.47712901+0.j 0.47251026+0.j\n",
      " 0.46823898+0.j 0.46434929+0.j 0.46087064+0.j 0.45782767+0.j\n",
      " 0.45524005+0.j 0.45312241+0.j 0.45148436+0.j 0.45033045+0.j\n",
      " 0.44966031+0.j 0.44946875+0.j 0.44974593+0.j 0.45047758+0.j\n",
      " 0.45164524+0.j 0.45322656+0.j 0.45519562+0.j 0.45752327+0.j\n",
      " 0.46017749+0.j 0.4631238 +0.j 0.46632568+0.j 0.46974493+0.j\n",
      " 0.47334215+0.j 0.47707711+0.j 0.48090924+0.j 0.48479796+0.j\n",
      " 0.48870316+0.j 0.49258554+0.j 0.49640701+0.j 0.50013103+0.j\n",
      " 0.50372292+0.j 0.50715019+0.j 0.5103828 +0.j 0.51339337+0.j\n",
      " 0.51615744+0.j 0.5186536 +0.j 0.52086365+0.j 0.52277269+0.j\n",
      " 0.52436918+0.j 0.52564501+0.j 0.52659545+0.j 0.52721913+0.j\n",
      " 0.527518  +0.j 0.52749718+0.j 0.52716485+0.j 0.52653212+0.j\n",
      " 0.5256128 +0.j 0.52442323+0.j 0.52298203+0.j 0.52130989+0.j\n",
      " 0.51942928+0.j 0.5173642 +0.j 0.51513988+0.j 0.51278254+0.j\n",
      " 0.51031907+0.j 0.50777675+0.j 0.50518298+0.j 0.50256498+0.j\n",
      " 0.49994956+0.j 0.49736283+0.j 0.49482997+0.j 0.49237499+0.j\n",
      " 0.49002056+0.j 0.48778775+0.j 0.48569591+0.j 0.48376252+0.j\n",
      " 0.48200302+0.j 0.48043076+0.j 0.47905686+0.j 0.47789023+0.j\n",
      " 0.47693744+0.j 0.47620281+0.j 0.47568834+0.j 0.47539382+0.j\n",
      " 0.47531681+0.j 0.47545279+0.j 0.47579523+0.j 0.47633567+0.j\n",
      " 0.47706391+0.j 0.47796812+0.j 0.479035  +0.j 0.48024998+0.j\n",
      " 0.48159735+0.j 0.48306046+0.j 0.48462194+0.j 0.48626386+0.j\n",
      " 0.48796792+0.j 0.48971567+0.j 0.49148866+0.j 0.49326866+0.j\n",
      " 0.49503782+0.j 0.49677883+0.j 0.49847509+0.j 0.50011086+0.j\n",
      " 0.5016714 +0.j 0.50314308+0.j 0.50451348+0.j 0.50577152+0.j\n",
      " 0.50690749+0.j 0.50791318+0.j 0.50878182+0.j 0.50950824+0.j\n",
      " 0.51008877+0.j 0.51052131+0.j 0.51080527+0.j 0.51094158+0.j\n",
      " 0.51093261+0.j 0.51078212+0.j 0.51049518+0.j 0.51007812+0.j\n",
      " 0.50953838+0.j 0.50888446+0.j 0.5081258 +0.j 0.50727263+0.j\n",
      " 0.50633588+0.j 0.50532704+0.j 0.50425803+0.j 0.5031411 +0.j\n",
      " 0.50198864+0.j 0.50081313+0.j 0.49962692+0.j 0.49844221+0.j\n",
      " 0.49727086+0.j 0.4961243 +0.j 0.49501344+0.j 0.49394856+0.j\n",
      " 0.49293923+0.j 0.49199422+0.j 0.49112147+0.j 0.49032795+0.j\n",
      " 0.48961972+0.j 0.48900182+0.j 0.48847824+0.j 0.48805197+0.j\n",
      " 0.48772494+0.j 0.48749803+0.j 0.4873711 +0.j 0.48734305+0.j\n",
      " 0.48741177+0.j 0.48757427+0.j 0.4878267 +0.j 0.48816438+0.j\n",
      " 0.48858193+0.j 0.48907327+0.j 0.48963177+0.j 0.49025027+0.j\n",
      " 0.49092119+0.j 0.49163663+0.j 0.49238842+0.j 0.49316825+0.j\n",
      " 0.49396771+0.j 0.49477843+0.j 0.49559212+0.j 0.49640066+0.j\n",
      " 0.4971962 +0.j 0.49797119+0.j 0.4987185 +0.j 0.49943142+0.j\n",
      " 0.50010378+0.j 0.50072995+0.j 0.5013049 +0.j 0.50182423+0.j\n",
      " 0.50228424+0.j 0.50268185+0.j 0.50301475+0.j 0.50328127+0.j\n",
      " 0.50348048+0.j 0.50361214+0.j 0.50367668+0.j 0.5036752 +0.j\n",
      " 0.50360942+0.j 0.50348167+0.j 0.50329483+0.j 0.50305231+0.j\n",
      " 0.50275799+0.j 0.50241615+0.j 0.50203147+0.j 0.50160892+0.j\n",
      " 0.50115374+0.j 0.50067134+0.j 0.5001673 +0.j 0.49964726+0.j\n",
      " 0.49911689+0.j 0.49858181+0.j 0.49804755+0.j 0.4975195 +0.j\n",
      " 0.49700287+0.j 0.4965026 +0.j 0.49602336+0.j 0.49556948+0.j\n",
      " 0.49514496+0.j 0.49475338+0.j 0.49439791+0.j 0.49408129+0.j\n",
      " 0.49380579+0.j 0.49357323+0.j 0.49338494+0.j 0.49324179+0.j\n",
      " 0.49314417+0.j 0.49309201+0.j 0.49308479+0.j 0.49312154+0.j\n",
      " 0.49320089+0.j 0.49332108+0.j 0.49347997+0.j 0.49367511+0.j\n",
      " 0.49390373+0.j 0.4941628 +0.j 0.49444906+0.j 0.49475906+0.j\n",
      " 0.49508921+0.j 0.49543578+0.j 0.49579501+0.j 0.49616306+0.j\n",
      " 0.49653612+0.j 0.49691044+0.j 0.49728232+0.j 0.4976482 +0.j\n",
      " 0.49800464+0.j 0.49834841+0.j 0.49867646+0.j 0.49898601+0.j\n",
      " 0.49927448+0.j]\n"
     ]
    }
   ],
   "source": [
    "b = doERTrun(Gs,400)\n",
    "print(b)"
   ]
  },
  {
   "cell_type": "code",
   "execution_count": 12,
   "id": "035090cd",
   "metadata": {},
   "outputs": [
    {
     "data": {
      "text/plain": [
       "array([[1.+0.00000000e+00j, 0.+1.38888889e-10j],\n",
       "       [0.-1.38888889e-10j, 1.+0.00000000e+00j]])"
      ]
     },
     "execution_count": 12,
     "metadata": {},
     "output_type": "execute_result"
    }
   ],
   "source": [
    "dt = 0.0001\n",
    "(1/2)*((Uk(dt).T.conj()@Uk(dt))+(Vk(dt).T.conj()@Vk(dt)))"
   ]
  },
  {
   "cell_type": "code",
   "execution_count": 13,
   "id": "242fd075",
   "metadata": {},
   "outputs": [
    {
     "data": {
      "text/plain": [
       "array([[0.99999156+0.00000000e+00j, 0.        +4.99997899e-05j],\n",
       "       [0.        +4.13246554e-03j, 0.9999999 +0.00000000e+00j]])"
      ]
     },
     "execution_count": 13,
     "metadata": {},
     "output_type": "execute_result"
    }
   ],
   "source": [
    "Vk(0.0001)"
   ]
  },
  {
   "cell_type": "code",
   "execution_count": 14,
   "id": "0df889c6",
   "metadata": {},
   "outputs": [
    {
     "data": {
      "text/plain": [
       "3.7071067811865475"
      ]
     },
     "execution_count": 14,
     "metadata": {},
     "output_type": "execute_result"
    }
   ],
   "source": [
    "TS2(np.array([[0,1],[0.5,0.5],[1,0],[1,0]]))"
   ]
  },
  {
   "cell_type": "code",
   "execution_count": 15,
   "id": "8a6b6003",
   "metadata": {},
   "outputs": [
    {
     "name": "stderr",
     "output_type": "stream",
     "text": [
      "/opt/intel/oneapi/intelpython/latest/lib/python3.7/site-packages/matplotlib/cbook/__init__.py:1390: ComplexWarning: Casting complex values to real discards the imaginary part\n",
      "  return np.asarray(x, float)\n",
      "No handles with labels found to put in legend.\n"
     ]
    },
    {
     "data": {
      "image/png": "[encoded data removed]",
      "text/plain": [
       "<Figure size 432x288 with 1 Axes>"
      ]
     },
     "metadata": {
      "needs_background": "light"
     },
     "output_type": "display_data"
    }
   ],
   "source": [
    "plt.plot(xV, b,)\n",
    "plt.legend()\n",
    "plt.title('Optical Bloch equations ERT')\n",
    "plt.ylabel('$P_{ee}$')\n",
    "plt.xlabel('$t\\Omega$')\n",
    "plt.savefig(\"OpticalBlochERT.pdf\")\n"
   ]
  },
  {
   "cell_type": "code",
   "execution_count": 16,
   "id": "292f0c38",
   "metadata": {},
   "outputs": [
    {
     "ename": "TypeError",
     "evalue": "stepERTens() takes 1 positional argument but 2 were given",
     "output_type": "error",
     "traceback": [
      "\u001b[0;31m---------------------------------------------------------------------------\u001b[0m",
      "\u001b[0;31mTypeError\u001b[0m                                 Traceback (most recent call last)",
      "\u001b[0;32m<ipython-input-16-8d0541c4206a>\u001b[0m in \u001b[0;36m<module>\u001b[0;34m\u001b[0m\n\u001b[0;32m----> 1\u001b[0;31m \u001b[0mstepERTens\u001b[0m\u001b[0;34m(\u001b[0m\u001b[0;34m[\u001b[0m\u001b[0mEs\u001b[0m\u001b[0;34m,\u001b[0m\u001b[0mEs\u001b[0m\u001b[0;34m,\u001b[0m\u001b[0mEs\u001b[0m\u001b[0;34m,\u001b[0m\u001b[0mEs\u001b[0m\u001b[0;34m]\u001b[0m\u001b[0;34m,\u001b[0m \u001b[0;36m0.01\u001b[0m\u001b[0;34m)\u001b[0m\u001b[0;34m\u001b[0m\u001b[0;34m\u001b[0m\u001b[0m\n\u001b[0m",
      "\u001b[0;31mTypeError\u001b[0m: stepERTens() takes 1 positional argument but 2 were given"
     ]
    }
   ],
   "source": [
    "stepERTens([Es,Es,Es,Es], 0.01)"
   ]
  },
  {
   "cell_type": "code",
   "execution_count": null,
   "id": "ac4e4fa7",
   "metadata": {},
   "outputs": [],
   "source": [
    "psi_reconstructed"
   ]
  },
  {
   "cell_type": "code",
   "execution_count": null,
   "id": "562c3e53",
   "metadata": {},
   "outputs": [],
   "source": [
    "import numpy as np\n",
    "\n",
    "# Example operator (R x L)\n",
    "O = np.random.rand(3, 4)\n",
    "\n",
    "# Example wavefunctions (L x 2)\n",
    "Psi = np.random.rand(4, 2)\n",
    "\n",
    "# Apply the operator\n",
    "Phi = O @ Psi\n",
    "\n",
    "print(\"Resulting wavefunctions:\", Phi)\n"
   ]
  },
  {
   "cell_type": "code",
   "execution_count": null,
   "id": "d35aa867",
   "metadata": {},
   "outputs": [],
   "source": [
    "np.linalg.norm(Uk(0.1)@Es)"
   ]
  },
  {
   "cell_type": "code",
   "execution_count": null,
   "id": "07e62051",
   "metadata": {},
   "outputs": [],
   "source": []
  }
 ],
 "metadata": {
  "kernelspec": {
   "display_name": "Python 3",
   "language": "python",
   "name": "python3"
  },
  "language_info": {
   "codemirror_mode": {
    "name": "ipython",
    "version": 3
   },
   "file_extension": ".py",
   "mimetype": "text/x-python",
   "name": "python",
   "nbconvert_exporter": "python",
   "pygments_lexer": "ipython3",
   "version": "3.7.9"
  }
 },
 "nbformat": 4,
 "nbformat_minor": 5
}
